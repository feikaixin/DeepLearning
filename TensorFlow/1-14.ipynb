{
 "cells": [
  {
   "cell_type": "markdown",
   "metadata": {},
   "source": [
    "# tensorboard可视化界面"
   ]
  },
  {
   "cell_type": "code",
   "execution_count": 14,
   "metadata": {},
   "outputs": [],
   "source": [
    "import tensorflow as tf\n",
    "import datetime\n",
    "import os"
   ]
  },
  {
   "cell_type": "code",
   "execution_count": 15,
   "metadata": {},
   "outputs": [],
   "source": [
    "%load_ext tensorboard\n",
    "%matplotlib inline"
   ]
  },
  {
   "cell_type": "code",
   "execution_count": 6,
   "metadata": {},
   "outputs": [],
   "source": [
    "(train_img, train_label), (test_img, test_label) = tf.keras.datasets.fashion_mnist.load_data()"
   ]
  },
  {
   "cell_type": "code",
   "execution_count": 7,
   "metadata": {},
   "outputs": [],
   "source": [
    "train_img = train_img  / 255\n",
    "\n",
    "test_img = test_img / 255\n",
    "\n",
    "ds_train_img = tf.data.Dataset.from_tensor_slices(train_img)\n",
    "ds_train_lab = tf.data.Dataset.from_tensor_slices(train_label)\n",
    "ds_test_img = tf.data.Dataset.from_tensor_slices(test_img)\n",
    "ds_test_lab = tf.data.Dataset.from_tensor_slices(test_label)\n",
    "\n",
    "ds_train = tf.data.Dataset.zip((ds_train_img, ds_train_lab))\n",
    "ds_test = tf.data.Dataset.zip((ds_test_img, ds_test_lab))\n",
    "\n",
    "train_dataset = ds_train.shuffle(10000).repeat().batch(64)\n",
    "test_dataset = ds_test.batch(64)"
   ]
  },
  {
   "cell_type": "code",
   "execution_count": 8,
   "metadata": {},
   "outputs": [],
   "source": [
    "model = tf.keras.Sequential([\n",
    "    tf.keras.layers.Flatten(input_shape=(28, 28)),\n",
    "    tf.keras.layers.Dense(128, activation=\"relu\"),\n",
    "    tf.keras.layers.Dense(10, activation=\"softmax\")\n",
    "])"
   ]
  },
  {
   "cell_type": "code",
   "execution_count": 9,
   "metadata": {},
   "outputs": [],
   "source": [
    "model.compile(\n",
    "    optimizer=\"adam\",\n",
    "    metrics=[\"accuracy\"],\n",
    "    loss=\"sparse_categorical_crossentropy\"\n",
    ")"
   ]
  },
  {
   "cell_type": "code",
   "execution_count": 10,
   "metadata": {},
   "outputs": [],
   "source": [
    "validation_steps = test_img.shape[0]//64\n",
    "steps_per_epoch = train_img.shape[0]//64"
   ]
  },
  {
   "cell_type": "code",
   "execution_count": 12,
   "metadata": {},
   "outputs": [],
   "source": [
    "log_dir = os.path.join('logs', datetime.datetime.now().strftime(\"%Y%m%d-%H%M%S\"))"
   ]
  },
  {
   "cell_type": "code",
   "execution_count": 13,
   "metadata": {},
   "outputs": [],
   "source": [
    "tensorboard_callback = tf.keras.callbacks.TensorBoard(log_dir, histogram_freq=1)"
   ]
  },
  {
   "cell_type": "markdown",
   "metadata": {},
   "source": [
    "### 自定义变量的tensorboard的可视化"
   ]
  },
  {
   "cell_type": "code",
   "execution_count": 31,
   "metadata": {},
   "outputs": [],
   "source": [
    "# 创建一个文件编辑器\n",
    "file_writer = tf.summary.create_file_writer(log_dir + '/lr')\n",
    "# 设置为默认的编辑器\n",
    "file_writer.set_as_default()"
   ]
  },
  {
   "cell_type": "code",
   "execution_count": 32,
   "metadata": {},
   "outputs": [],
   "source": [
    "def lr_rate(epoch):\n",
    "    learning_rate = 0.02\n",
    "    if epoch > 5:\n",
    "        learning_rate = 0.01\n",
    "    if epoch > 10:\n",
    "        learning_rate = 0.005\n",
    "    if epoch > 15:\n",
    "        learning_rate = 0.0005\n",
    "    tf.summary.scalar(\"learning_rate\", learning_rate, step=epoch)\n",
    "    return learning_rate"
   ]
  },
  {
   "cell_type": "code",
   "execution_count": 33,
   "metadata": {},
   "outputs": [],
   "source": [
    "lr_callback = tf.keras.callbacks.LearningRateScheduler(lr_rate)"
   ]
  },
  {
   "cell_type": "markdown",
   "metadata": {},
   "source": [
    "这里我们需要把我们记录的文件写入到磁盘中"
   ]
  },
  {
   "cell_type": "code",
   "execution_count": 34,
   "metadata": {},
   "outputs": [
    {
     "name": "stdout",
     "output_type": "stream",
     "text": [
      "Train for 937 steps, validate for 156 steps\n",
      "Epoch 1/20\n",
      "937/937 [==============================] - 2s 2ms/step - loss: 2.3048 - accuracy: 0.0986 - val_loss: 2.3041 - val_accuracy: 0.1001\n",
      "Epoch 2/20\n",
      "937/937 [==============================] - 2s 2ms/step - loss: 2.3043 - accuracy: 0.1012 - val_loss: 2.3060 - val_accuracy: 0.0999\n",
      "Epoch 3/20\n",
      "937/937 [==============================] - 2s 2ms/step - loss: 2.3046 - accuracy: 0.0970 - val_loss: 2.3043 - val_accuracy: 0.1001\n",
      "Epoch 4/20\n",
      "937/937 [==============================] - 2s 2ms/step - loss: 2.3048 - accuracy: 0.0985 - val_loss: 2.3055 - val_accuracy: 0.1001\n",
      "Epoch 5/20\n",
      "937/937 [==============================] - 2s 2ms/step - loss: 2.3046 - accuracy: 0.0987 - val_loss: 2.3057 - val_accuracy: 0.1001\n",
      "Epoch 6/20\n",
      "937/937 [==============================] - 2s 2ms/step - loss: 2.3045 - accuracy: 0.1006 - val_loss: 2.3045 - val_accuracy: 0.1001\n",
      "Epoch 7/20\n",
      "937/937 [==============================] - 2s 2ms/step - loss: 2.3035 - accuracy: 0.1007 - val_loss: 2.3029 - val_accuracy: 0.1001\n",
      "Epoch 8/20\n",
      "937/937 [==============================] - 2s 2ms/step - loss: 2.3038 - accuracy: 0.0995 - val_loss: 2.3033 - val_accuracy: 0.1002\n",
      "Epoch 9/20\n",
      "937/937 [==============================] - 2s 2ms/step - loss: 2.3036 - accuracy: 0.0991 - val_loss: 2.3040 - val_accuracy: 0.1002\n",
      "Epoch 10/20\n",
      "937/937 [==============================] - 2s 2ms/step - loss: 2.3038 - accuracy: 0.0987 - val_loss: 2.3036 - val_accuracy: 0.1001\n",
      "Epoch 11/20\n",
      "937/937 [==============================] - 2s 2ms/step - loss: 2.3035 - accuracy: 0.0995 - val_loss: 2.3031 - val_accuracy: 0.0998\n",
      "Epoch 12/20\n",
      "937/937 [==============================] - 2s 2ms/step - loss: 2.3032 - accuracy: 0.0995 - val_loss: 2.3028 - val_accuracy: 0.1001\n",
      "Epoch 13/20\n",
      "937/937 [==============================] - 2s 2ms/step - loss: 2.3030 - accuracy: 0.1027 - val_loss: 2.3029 - val_accuracy: 0.1001\n",
      "Epoch 14/20\n",
      "937/937 [==============================] - 2s 2ms/step - loss: 2.3031 - accuracy: 0.1015 - val_loss: 2.3029 - val_accuracy: 0.1001\n",
      "Epoch 15/20\n",
      "937/937 [==============================] - 2s 2ms/step - loss: 2.3032 - accuracy: 0.1004 - val_loss: 2.3031 - val_accuracy: 0.1001\n",
      "Epoch 16/20\n",
      "937/937 [==============================] - 2s 2ms/step - loss: 2.3032 - accuracy: 0.0984 - val_loss: 2.3029 - val_accuracy: 0.1001\n",
      "Epoch 17/20\n",
      "937/937 [==============================] - 2s 2ms/step - loss: 2.3028 - accuracy: 0.0993 - val_loss: 2.3026 - val_accuracy: 0.1001\n",
      "Epoch 18/20\n",
      "937/937 [==============================] - 2s 2ms/step - loss: 2.3027 - accuracy: 0.0971 - val_loss: 2.3026 - val_accuracy: 0.1001\n",
      "Epoch 19/20\n",
      "937/937 [==============================] - 2s 2ms/step - loss: 2.3027 - accuracy: 0.0979 - val_loss: 2.3026 - val_accuracy: 0.1002\n",
      "Epoch 20/20\n",
      "937/937 [==============================] - 2s 2ms/step - loss: 2.3027 - accuracy: 0.0987 - val_loss: 2.3026 - val_accuracy: 0.1001\n"
     ]
    },
    {
     "data": {
      "text/plain": [
       "<tensorflow.python.keras.callbacks.History at 0x6368cff10>"
      ]
     },
     "execution_count": 34,
     "metadata": {},
     "output_type": "execute_result"
    }
   ],
   "source": [
    "model.fit(\n",
    "    train_dataset, \n",
    "    epochs=20, \n",
    "    steps_per_epoch=steps_per_epoch, \n",
    "    validation_data=test_dataset, \n",
    "    validation_steps=validation_steps,\n",
    "    callbacks=[tensorboard_callback, lr_callback]\n",
    ")"
   ]
  },
  {
   "cell_type": "code",
   "execution_count": 35,
   "metadata": {},
   "outputs": [
    {
     "data": {
      "text/plain": [
       "Reusing TensorBoard on port 6006 (pid 83636), started 1:35:02 ago. (Use '!kill 83636' to kill it.)"
      ]
     },
     "metadata": {},
     "output_type": "display_data"
    },
    {
     "data": {
      "text/html": [
       "\n",
       "      <iframe id=\"tensorboard-frame-1fe4f0fb9e8ce5ee\" width=\"100%\" height=\"800\" frameborder=\"0\">\n",
       "      </iframe>\n",
       "      <script>\n",
       "        (function() {\n",
       "          const frame = document.getElementById(\"tensorboard-frame-1fe4f0fb9e8ce5ee\");\n",
       "          const url = new URL(\"/\", window.location);\n",
       "          url.port = 6006;\n",
       "          frame.src = url;\n",
       "        })();\n",
       "      </script>\n",
       "  "
      ],
      "text/plain": [
       "<IPython.core.display.HTML object>"
      ]
     },
     "metadata": {},
     "output_type": "display_data"
    }
   ],
   "source": [
    "%tensorboard --logdir logs"
   ]
  },
  {
   "cell_type": "code",
   "execution_count": 21,
   "metadata": {},
   "outputs": [
    {
     "name": "stdout",
     "output_type": "stream",
     "text": [
      "Model: \"sequential\"\n",
      "_________________________________________________________________\n",
      "Layer (type)                 Output Shape              Param #   \n",
      "=================================================================\n",
      "flatten (Flatten)            (None, 784)               0         \n",
      "_________________________________________________________________\n",
      "dense (Dense)                (None, 128)               100480    \n",
      "_________________________________________________________________\n",
      "dense_1 (Dense)              (None, 10)                1290      \n",
      "=================================================================\n",
      "Total params: 101,770\n",
      "Trainable params: 101,770\n",
      "Non-trainable params: 0\n",
      "_________________________________________________________________\n"
     ]
    }
   ],
   "source": [
    "model.summary()"
   ]
  },
  {
   "cell_type": "markdown",
   "metadata": {},
   "source": []
  }
 ],
 "metadata": {
  "kernelspec": {
   "display_name": "Python [conda env:tensorflow]",
   "language": "python",
   "name": "conda-env-tensorflow-py"
  },
  "language_info": {
   "codemirror_mode": {
    "name": "ipython",
    "version": 3
   },
   "file_extension": ".py",
   "mimetype": "text/x-python",
   "name": "python",
   "nbconvert_exporter": "python",
   "pygments_lexer": "ipython3",
   "version": "3.7.6"
  }
 },
 "nbformat": 4,
 "nbformat_minor": 4
}
