{
 "cells": [
  {
   "cell_type": "code",
   "execution_count": 1,
   "metadata": {},
   "outputs": [],
   "source": [
    "import tensorflow as tf"
   ]
  },
  {
   "cell_type": "code",
   "execution_count": 2,
   "metadata": {},
   "outputs": [],
   "source": [
    "data = tf.keras.datasets.imdb"
   ]
  },
  {
   "cell_type": "code",
   "execution_count": 19,
   "metadata": {},
   "outputs": [],
   "source": [
    "(xtrain, ytrain), (xtest, ytest) = data.load_data(num_words=10000)"
   ]
  },
  {
   "cell_type": "markdown",
   "metadata": {},
   "source": [
    "把文本的长度处理成一致的"
   ]
  },
  {
   "cell_type": "code",
   "execution_count": 20,
   "metadata": {},
   "outputs": [],
   "source": [
    "xtrain = tf.keras.preprocessing.sequence.pad_sequences(xtrain,300)\n",
    "xtest = tf.keras.preprocessing.sequence.pad_sequences(xtest,300)"
   ]
  },
  {
   "cell_type": "code",
   "execution_count": 21,
   "metadata": {},
   "outputs": [],
   "source": [
    "model = tf.keras.models.Sequential()"
   ]
  },
  {
   "cell_type": "markdown",
   "metadata": {},
   "source": [
    "### 在模型中添加一层，将数据映射成密集向量"
   ]
  },
  {
   "cell_type": "code",
   "execution_count": 22,
   "metadata": {},
   "outputs": [],
   "source": [
    "model.add(tf.keras.layers.Embedding(10000, 50, input_length=300))\n",
    "\n",
    "# 原始数据为 25000，300 经过这一层后变成 25000，300，50"
   ]
  },
  {
   "cell_type": "code",
   "execution_count": 23,
   "metadata": {},
   "outputs": [],
   "source": [
    "model.add(tf.keras.layers.Flatten())"
   ]
  },
  {
   "cell_type": "code",
   "execution_count": 24,
   "metadata": {},
   "outputs": [],
   "source": [
    "model.add(tf.keras.layers.Dense(128, activation=\"relu\"))"
   ]
  },
  {
   "cell_type": "code",
   "execution_count": 25,
   "metadata": {},
   "outputs": [],
   "source": [
    "model.add(tf.keras.layers.Dense(1, activation=\"sigmoid\"))"
   ]
  },
  {
   "cell_type": "code",
   "execution_count": 26,
   "metadata": {},
   "outputs": [],
   "source": [
    "model.compile(optimizer=\"adam\", loss=\"binary_crossentropy\", metrics=[\"acc\"]) "
   ]
  },
  {
   "cell_type": "code",
   "execution_count": 27,
   "metadata": {},
   "outputs": [
    {
     "name": "stdout",
     "output_type": "stream",
     "text": [
      "Train on 25000 samples, validate on 25000 samples\n",
      "Epoch 1/10\n",
      "25000/25000 [==============================] - 3s 135us/sample - loss: 0.5010 - acc: 0.7248 - val_loss: 0.2981 - val_acc: 0.8737\n",
      "Epoch 2/10\n",
      "25000/25000 [==============================] - 2s 99us/sample - loss: 0.1628 - acc: 0.9394 - val_loss: 0.3067 - val_acc: 0.8721\n",
      "Epoch 3/10\n",
      "25000/25000 [==============================] - 2s 98us/sample - loss: 0.0398 - acc: 0.9919 - val_loss: 0.3554 - val_acc: 0.8721\n",
      "Epoch 4/10\n",
      "25000/25000 [==============================] - 3s 104us/sample - loss: 0.0081 - acc: 0.9995 - val_loss: 0.3979 - val_acc: 0.8722\n",
      "Epoch 5/10\n",
      "25000/25000 [==============================] - 2s 100us/sample - loss: 0.0029 - acc: 1.0000 - val_loss: 0.4195 - val_acc: 0.8746\n",
      "Epoch 6/10\n",
      "25000/25000 [==============================] - 2s 100us/sample - loss: 0.0015 - acc: 1.0000 - val_loss: 0.4423 - val_acc: 0.8752\n",
      "Epoch 7/10\n",
      "25000/25000 [==============================] - 3s 104us/sample - loss: 9.3334e-04 - acc: 1.0000 - val_loss: 0.4622 - val_acc: 0.8746\n",
      "Epoch 8/10\n",
      "25000/25000 [==============================] - 3s 106us/sample - loss: 6.3045e-04 - acc: 1.0000 - val_loss: 0.4796 - val_acc: 0.8747\n",
      "Epoch 9/10\n",
      "25000/25000 [==============================] - 3s 107us/sample - loss: 4.4002e-04 - acc: 1.0000 - val_loss: 0.4975 - val_acc: 0.8751\n",
      "Epoch 10/10\n",
      "25000/25000 [==============================] - 3s 102us/sample - loss: 3.2451e-04 - acc: 1.0000 - val_loss: 0.5102 - val_acc: 0.8759\n"
     ]
    },
    {
     "data": {
      "text/plain": [
       "<tensorflow.python.keras.callbacks.History at 0x640347fd0>"
      ]
     },
     "execution_count": 27,
     "metadata": {},
     "output_type": "execute_result"
    }
   ],
   "source": [
    "model.fit(xtrain, ytrain, epochs=10, batch_size=256, validation_data=(xtest, ytest))"
   ]
  },
  {
   "cell_type": "code",
   "execution_count": null,
   "metadata": {},
   "outputs": [],
   "source": []
  }
 ],
 "metadata": {
  "kernelspec": {
   "display_name": "Python [conda env:tensorflow]",
   "language": "python",
   "name": "conda-env-tensorflow-py"
  },
  "language_info": {
   "codemirror_mode": {
    "name": "ipython",
    "version": 3
   },
   "file_extension": ".py",
   "mimetype": "text/x-python",
   "name": "python",
   "nbconvert_exporter": "python",
   "pygments_lexer": "ipython3",
   "version": "3.7.6"
  }
 },
 "nbformat": 4,
 "nbformat_minor": 4
}
