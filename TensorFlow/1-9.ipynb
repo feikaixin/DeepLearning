{
 "cells": [
  {
   "cell_type": "markdown",
   "metadata": {},
   "source": [
    "# 使用keras搭建卷积神经网络模型"
   ]
  },
  {
   "cell_type": "code",
   "execution_count": 1,
   "metadata": {},
   "outputs": [],
   "source": [
    "import tensorflow as tf\n",
    "import matplotlib.pyplot as plt\n",
    "import numpy as np\n",
    "%matplotlib inline"
   ]
  },
  {
   "cell_type": "code",
   "execution_count": 2,
   "metadata": {},
   "outputs": [],
   "source": [
    "fashion_mnist = tf.keras.datasets.fashion_mnist.load_data()\n",
    "(train_img, train_label), (test_img, test_label) = fashion_mnist"
   ]
  },
  {
   "cell_type": "markdown",
   "metadata": {},
   "source": [
    "### 将图片变成 个数、高、宽、通道 四个维度的图片"
   ]
  },
  {
   "cell_type": "code",
   "execution_count": 3,
   "metadata": {},
   "outputs": [],
   "source": [
    "test_img_dim = np.expand_dims(test_img, -1)\n",
    "train_img_dim = np.expand_dims(train_img, -1)"
   ]
  },
  {
   "cell_type": "markdown",
   "metadata": {},
   "source": [
    "### 卷积神经网络搭建\n",
    "* 卷积层 filters的个数一般是2的幂次方\n",
    "* 池化层\n",
    "* 卷积层\n",
    "* 全局平均池化层\n",
    "* dense层"
   ]
  },
  {
   "cell_type": "code",
   "execution_count": 4,
   "metadata": {},
   "outputs": [],
   "source": [
    "model = tf.keras.Sequential()\n",
    "model.add(tf.keras.layers.Conv2D(32, (3, 3), input_shape=train_img_dim.shape[1:], activation=\"relu\"))\n",
    "model.add(tf.keras.layers.MaxPool2D())\n",
    "model.add(tf.keras.layers.Conv2D(64, (3,3), activation=\"relu\"))\n",
    "model.add(tf.keras.layers.GlobalAveragePooling2D())\n",
    "model.add(tf.keras.layers.Dense(10, activation=\"softmax\"))"
   ]
  },
  {
   "cell_type": "code",
   "execution_count": 5,
   "metadata": {},
   "outputs": [],
   "source": [
    "model.compile(\n",
    "    optimizer=\"adam\",\n",
    "    loss=tf.keras.losses.sparse_categorical_crossentropy,\n",
    "    metrics=[\"acc\"]\n",
    ")"
   ]
  },
  {
   "cell_type": "code",
   "execution_count": 31,
   "metadata": {},
   "outputs": [
    {
     "name": "stdout",
     "output_type": "stream",
     "text": [
      "Train on 60000 samples, validate on 10000 samples\n",
      "Epoch 1/30\n",
      "60000/60000 [==============================] - 22s 364us/sample - loss: 0.7481 - acc: 0.7522 - val_loss: 0.5555 - val_acc: 0.8037\n",
      "Epoch 2/30\n",
      "60000/60000 [==============================] - 21s 352us/sample - loss: 0.4816 - acc: 0.8321 - val_loss: 0.5005 - val_acc: 0.8265\n",
      "Epoch 3/30\n",
      "60000/60000 [==============================] - 21s 355us/sample - loss: 0.4195 - acc: 0.8524 - val_loss: 0.4459 - val_acc: 0.8484\n",
      "Epoch 4/30\n",
      "60000/60000 [==============================] - 21s 355us/sample - loss: 0.3836 - acc: 0.8639 - val_loss: 0.4575 - val_acc: 0.8350\n",
      "Epoch 5/30\n",
      "60000/60000 [==============================] - 21s 353us/sample - loss: 0.3586 - acc: 0.8725 - val_loss: 0.3883 - val_acc: 0.8654\n",
      "Epoch 6/30\n",
      "60000/60000 [==============================] - 21s 353us/sample - loss: 0.3358 - acc: 0.8808 - val_loss: 0.3475 - val_acc: 0.8787\n",
      "Epoch 7/30\n",
      "60000/60000 [==============================] - 21s 352us/sample - loss: 0.3229 - acc: 0.8856 - val_loss: 0.3849 - val_acc: 0.8643\n",
      "Epoch 8/30\n",
      "60000/60000 [==============================] - 22s 362us/sample - loss: 0.3097 - acc: 0.8895 - val_loss: 0.3519 - val_acc: 0.8800\n",
      "Epoch 9/30\n",
      "60000/60000 [==============================] - 22s 368us/sample - loss: 0.2975 - acc: 0.8927 - val_loss: 0.3270 - val_acc: 0.8839\n",
      "Epoch 10/30\n",
      "60000/60000 [==============================] - 22s 360us/sample - loss: 0.2870 - acc: 0.8978 - val_loss: 0.3218 - val_acc: 0.8865\n",
      "Epoch 11/30\n",
      "60000/60000 [==============================] - 21s 354us/sample - loss: 0.2783 - acc: 0.9007 - val_loss: 0.3398 - val_acc: 0.8832\n",
      "Epoch 12/30\n",
      "60000/60000 [==============================] - 21s 355us/sample - loss: 0.2701 - acc: 0.9029 - val_loss: 0.3514 - val_acc: 0.8793\n",
      "Epoch 13/30\n",
      "60000/60000 [==============================] - 21s 357us/sample - loss: 0.2622 - acc: 0.9064 - val_loss: 0.3268 - val_acc: 0.8852\n",
      "Epoch 14/30\n",
      "60000/60000 [==============================] - 20s 339us/sample - loss: 0.2565 - acc: 0.9078 - val_loss: 0.3427 - val_acc: 0.8829\n",
      "Epoch 15/30\n",
      "60000/60000 [==============================] - 21s 346us/sample - loss: 0.2505 - acc: 0.9107 - val_loss: 0.3128 - val_acc: 0.8927\n",
      "Epoch 16/30\n",
      "60000/60000 [==============================] - 21s 348us/sample - loss: 0.2435 - acc: 0.9117 - val_loss: 0.3614 - val_acc: 0.8714\n",
      "Epoch 17/30\n",
      "60000/60000 [==============================] - 21s 346us/sample - loss: 0.2391 - acc: 0.9143 - val_loss: 0.3073 - val_acc: 0.8932\n",
      "Epoch 18/30\n",
      "60000/60000 [==============================] - 21s 347us/sample - loss: 0.2330 - acc: 0.9151 - val_loss: 0.3564 - val_acc: 0.8779\n",
      "Epoch 19/30\n",
      "60000/60000 [==============================] - 21s 345us/sample - loss: 0.2297 - acc: 0.9171 - val_loss: 0.3229 - val_acc: 0.8876\n",
      "Epoch 20/30\n",
      "60000/60000 [==============================] - 21s 346us/sample - loss: 0.2247 - acc: 0.9185 - val_loss: 0.3613 - val_acc: 0.8792\n",
      "Epoch 21/30\n",
      "60000/60000 [==============================] - 21s 342us/sample - loss: 0.2216 - acc: 0.9204 - val_loss: 0.3157 - val_acc: 0.8912\n",
      "Epoch 22/30\n",
      "60000/60000 [==============================] - 21s 343us/sample - loss: 0.2144 - acc: 0.9230 - val_loss: 0.3506 - val_acc: 0.8778\n",
      "Epoch 23/30\n",
      "60000/60000 [==============================] - 21s 352us/sample - loss: 0.2140 - acc: 0.9224 - val_loss: 0.3139 - val_acc: 0.8926\n",
      "Epoch 24/30\n",
      "60000/60000 [==============================] - 21s 352us/sample - loss: 0.2105 - acc: 0.9235 - val_loss: 0.3207 - val_acc: 0.8879\n",
      "Epoch 25/30\n",
      "60000/60000 [==============================] - 21s 342us/sample - loss: 0.2049 - acc: 0.9255 - val_loss: 0.3622 - val_acc: 0.8833\n",
      "Epoch 26/30\n",
      "60000/60000 [==============================] - 20s 336us/sample - loss: 0.2031 - acc: 0.9258 - val_loss: 0.3433 - val_acc: 0.8850\n",
      "Epoch 27/30\n",
      "60000/60000 [==============================] - 20s 341us/sample - loss: 0.1984 - acc: 0.9278 - val_loss: 0.3110 - val_acc: 0.8948\n",
      "Epoch 28/30\n",
      "60000/60000 [==============================] - 19s 324us/sample - loss: 0.1971 - acc: 0.9280 - val_loss: 0.3178 - val_acc: 0.8918\n",
      "Epoch 29/30\n",
      "60000/60000 [==============================] - 20s 338us/sample - loss: 0.1937 - acc: 0.9301 - val_loss: 0.3282 - val_acc: 0.8870\n",
      "Epoch 30/30\n",
      "60000/60000 [==============================] - 20s 339us/sample - loss: 0.1896 - acc: 0.9313 - val_loss: 0.3364 - val_acc: 0.8911\n"
     ]
    }
   ],
   "source": [
    "history = model.fit(train_img_dim, train_label, epochs=30, validation_data=(test_img_dim,  test_label))"
   ]
  },
  {
   "cell_type": "code",
   "execution_count": 33,
   "metadata": {},
   "outputs": [
    {
     "data": {
      "text/plain": [
       "<matplotlib.legend.Legend at 0x12b38b550>"
      ]
     },
     "execution_count": 33,
     "metadata": {},
     "output_type": "execute_result"
    },
    {
     "data": {
      "image/png": "[encoded data removed]",
      "text/plain": [
       "<Figure size 432x288 with 1 Axes>"
      ]
     },
     "metadata": {
      "needs_background": "light"
     },
     "output_type": "display_data"
    }
   ],
   "source": [
    "plt.plot(history.epoch, history.history.get('loss'), label=\"loss\")\n",
    "plt.plot(history.epoch, history.history.get('val_loss'), label=\"val_loss\")\n",
    "plt.legend()"
   ]
  },
  {
   "cell_type": "code",
   "execution_count": null,
   "metadata": {},
   "outputs": [],
   "source": []
  }
 ],
 "metadata": {
  "kernelspec": {
   "display_name": "tensorflow",
   "language": "python",
   "name": "tensorflow"
  },
  "language_info": {
   "codemirror_mode": {
    "name": "ipython",
    "version": 3
   },
   "file_extension": ".py",
   "mimetype": "text/x-python",
   "name": "python",
   "nbconvert_exporter": "python",
   "pygments_lexer": "ipython3",
   "version": "3.7.6"
  }
 },
 "nbformat": 4,
 "nbformat_minor": 4
}
