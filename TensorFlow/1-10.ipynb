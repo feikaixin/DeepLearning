{
 "cells": [
  {
   "cell_type": "code",
   "execution_count": 1,
   "metadata": {
    "colab": {},
    "colab_type": "code",
    "id": "JBSe3o-NyRxM"
   },
   "outputs": [
    {
     "name": "stderr",
     "output_type": "stream",
     "text": [
      "UsageError: Line magic function `%tensorflow_version` not found.\n"
     ]
    }
   ],
   "source": [
    "%tensorflow_version 2.x\n",
    "import tensorflow as tf\n",
    "import numpy as np\n",
    "import matplotlib.pyplot as plt\n",
    "%matplotlib inline\n",
    "import os\n",
    "import zipfile\n",
    "import random\n",
    "import pathlib\n",
    "import IPython.display as display"
   ]
  },
  {
   "cell_type": "markdown",
   "metadata": {
    "colab_type": "text",
    "id": "sZhnMDHGEEiw"
   },
   "source": [
    "解压dataset"
   ]
  },
  {
   "cell_type": "code",
   "execution_count": null,
   "metadata": {
    "colab": {},
    "colab_type": "code",
    "id": "E-BuZKKK8akX"
   },
   "outputs": [],
   "source": [
    "data_path = '/content/drive/My Drive/2_class.zip'\n",
    "fz = zipfile.ZipFile(data_path, 'r')\n",
    "fz.extractall()"
   ]
  },
  {
   "cell_type": "markdown",
   "metadata": {
    "colab_type": "text",
    "id": "b4F9dC8wEMCG"
   },
   "source": [
    "读取文件路径 并存储文件个数、文件名称"
   ]
  },
  {
   "cell_type": "code",
   "execution_count": null,
   "metadata": {
    "colab": {},
    "colab_type": "code",
    "id": "sTUb05tTDc6x"
   },
   "outputs": [],
   "source": [
    "file_path = '/content/drive/My Drive/2_class'\n",
    "def get_all_path(open_file_path):\n",
    "    rootdir = open_file_path\n",
    "    path_list = []\n",
    "    list = os.listdir(rootdir)  # 列出文件夹下所有的目录与文件\n",
    "    for i in range(0, len(list)):\n",
    "        com_path = os.path.join(rootdir, list[i])\n",
    "        #print(com_path)\n",
    "        if os.path.isfile(com_path):\n",
    "            path_list.append(com_path)\n",
    "        if os.path.isdir(com_path):\n",
    "            path_list.extend(get_all_path(com_path))\n",
    "    return path_list\n",
    "# 所有的文件路径\n",
    "all_image_list = get_all_path(file_path)\n",
    "random.shuffle(all_image_list)\n",
    "# 文件个数\n",
    "img_count = len(all_image_list)\n",
    "# 类别名称\n",
    "label_names = os.listdir(file_path)\n",
    "# 名称转成数字\n",
    "label_to_index = dict((name, index) for index, name in enumerate(label_names))\n",
    "# 取得所有文件的label\n",
    "all_image_label = [label_to_index[pathlib.Path(p).parent.name] for p in all_image_list]\n"
   ]
  },
  {
   "cell_type": "markdown",
   "metadata": {
    "colab_type": "text",
    "id": "5KOecyw1X7-h"
   },
   "source": [
    "IPython.display显示图片"
   ]
  },
  {
   "cell_type": "code",
   "execution_count": 52,
   "metadata": {
    "colab": {
     "base_uri": "https://localhost:8080/",
     "height": 273
    },
    "colab_type": "code",
    "id": "CItUUWO9X_2t",
    "outputId": "09e708af-30c7-4772-ff04-fd302a6bffc9"
   },
   "outputs": [
    {
     "data": {
      "image/jpeg": "[encoded data removed]",
      "text/plain": [
       "<IPython.core.display.Image object>"
      ]
     },
     "metadata": {
      "tags": []
     },
     "output_type": "display_data"
    }
   ],
   "source": [
    "display.display(display.Image(all_image_list[0]))"
   ]
  },
  {
   "cell_type": "markdown",
   "metadata": {
    "colab_type": "text",
    "id": "gY4MKx3oX0Pt"
   },
   "source": [
    "tensorflow读取图片流程\n",
    "* tf.io.read_file读取图片\n",
    "* tf.io.decode_image解码图片\n",
    "* tf.cast转换数据图片数据类型\n",
    "* 图片数据归一化\n"
   ]
  },
  {
   "cell_type": "code",
   "execution_count": null,
   "metadata": {
    "colab": {},
    "colab_type": "code",
    "id": "jNf0tU9pRwiv"
   },
   "outputs": [],
   "source": [
    "def load_preprocess_img(path):\n",
    "  img_raw = tf.io.read_file(path)\n",
    "  img_tensor = tf.io.decode_jpeg(img_raw, channels=3)\n",
    "  img_tensor = tf.image.resize(img_tensor, [256, 256])\n",
    "  img_tensor = tf.dtypes.cast(img_tensor, tf.float32)\n",
    "  img = img_tensor/255\n",
    "  return img"
   ]
  },
  {
   "cell_type": "markdown",
   "metadata": {
    "colab_type": "text",
    "id": "WJ6VDyN4e7fX"
   },
   "source": [
    "讲图片数据管道化（Dataset）"
   ]
  },
  {
   "cell_type": "code",
   "execution_count": null,
   "metadata": {
    "colab": {},
    "colab_type": "code",
    "id": "ErXRf-19chMB"
   },
   "outputs": [],
   "source": [
    "path_ds = tf.data.Dataset.from_tensor_slices(all_image_list)\n",
    "image_dataset = path_ds.map(load_preprocess_img)\n",
    "label_dataset = tf.data.Dataset.from_tensor_slices(all_image_label)"
   ]
  },
  {
   "cell_type": "code",
   "execution_count": null,
   "metadata": {
    "colab": {},
    "colab_type": "code",
    "id": "yjsaKN-cfg-h"
   },
   "outputs": [],
   "source": [
    "dataset = tf.data.Dataset.zip((image_dataset, label_dataset))"
   ]
  },
  {
   "cell_type": "markdown",
   "metadata": {
    "colab_type": "text",
    "id": "nF7sgAZClNW2"
   },
   "source": [
    "划分测试机和训练集"
   ]
  },
  {
   "cell_type": "code",
   "execution_count": 171,
   "metadata": {
    "colab": {
     "base_uri": "https://localhost:8080/",
     "height": 34
    },
    "colab_type": "code",
    "id": "xFOVCEkckM6Q",
    "outputId": "efcce767-62b3-47d8-d5a8-05f31f5e6cf6"
   },
   "outputs": [
    {
     "data": {
      "text/plain": [
       "<RepeatDataset shapes: ((None, 256, 256, 3), (None,)), types: (tf.float32, tf.int32)>"
      ]
     },
     "execution_count": 171,
     "metadata": {
      "tags": []
     },
     "output_type": "execute_result"
    }
   ],
   "source": [
    "test_count = int(img_count*0.2)\n",
    "train_count = img_count - test_count\n",
    "train_imgdataset = dataset.skip(test_count)\n",
    "test_imgdataset = dataset.take(test_count)\n",
    "\n",
    "BATCH_SIZE = 32\n",
    "ds_train = train_imgdataset.shuffle(buffer_size=train_count).batch(BATCH_SIZE).repeat()\n",
    "ds_test = test_imgdataset.batch(BATCH_SIZE)\n",
    "ds_train"
   ]
  },
  {
   "cell_type": "markdown",
   "metadata": {
    "colab_type": "text",
    "id": "7Fhci5vknnF6"
   },
   "source": [
    "建立模型"
   ]
  },
  {
   "cell_type": "code",
   "execution_count": null,
   "metadata": {
    "colab": {},
    "colab_type": "code",
    "id": "sL6GR3KdmoeE"
   },
   "outputs": [],
   "source": [
    "model = tf.keras.Sequential()\n",
    "model.add(tf.keras.layers.Conv2D(64, (3, 3), input_shape=(256, 256, 3), activation=\"relu\"))\n",
    "model.add(tf.keras.layers.Conv2D(64, (3, 3), activation=\"relu\"))\n",
    "model.add(tf.keras.layers.MaxPooling2D())\n",
    "model.add(tf.keras.layers.Conv2D(128, (3,3), activation=\"relu\"))\n",
    "model.add(tf.keras.layers.Conv2D(128, (3,3), activation=\"relu\"))\n",
    "model.add(tf.keras.layers.MaxPooling2D())\n",
    "model.add(tf.keras.layers.Conv2D(256, (3,3), activation=\"relu\"))\n",
    "model.add(tf.keras.layers.Conv2D(256, (3,3), activation=\"relu\"))\n",
    "model.add(tf.keras.layers.MaxPooling2D())\n",
    "model.add(tf.keras.layers.Conv2D(512, (3,3), activation=\"relu\"))\n",
    "model.add(tf.keras.layers.Conv2D(512, (3,3), activation=\"relu\"))\n",
    "model.add(tf.keras.layers.MaxPooling2D())\n",
    "model.add(tf.keras.layers.Conv2D(1024, (3,3), activation=\"relu\"))\n",
    "model.add(tf.keras.layers.GlobalAveragePooling2D())\n",
    "model.add(tf.keras.layers.Dense(1024, activation=\"relu\"))\n",
    "model.add(tf.keras.layers.Dense(256, activation=\"relu\"))\n",
    "model.add(tf.keras.layers.Dense(1, activation=\"sigmoid\"))"
   ]
  },
  {
   "cell_type": "code",
   "execution_count": null,
   "metadata": {
    "colab": {},
    "colab_type": "code",
    "id": "sdoR9VbVo9kd"
   },
   "outputs": [],
   "source": [
    "model.compile(\n",
    "    loss=tf.keras.losses.binary_crossentropy,\n",
    "    metrics=[\"acc\"],\n",
    "    optimizer=\"adam\"\n",
    ")"
   ]
  },
  {
   "cell_type": "code",
   "execution_count": null,
   "metadata": {
    "colab": {},
    "colab_type": "code",
    "id": "3ZhCkcBjpLCQ"
   },
   "outputs": [],
   "source": [
    "steps_per_epoch = train_count//BATCH_SIZE\n",
    "validation_steps = test_count//BATCH_SIZE"
   ]
  },
  {
   "cell_type": "code",
   "execution_count": 172,
   "metadata": {
    "colab": {
     "base_uri": "https://localhost:8080/",
     "height": 952
    },
    "colab_type": "code",
    "id": "wqv4OZNIpilB",
    "outputId": "5612751c-ae6c-4a10-f4b0-ca9b306b2126"
   },
   "outputs": [
    {
     "name": "stdout",
     "output_type": "stream",
     "text": [
      "Train for 35 steps, validate for 8 steps\n",
      "Epoch 1/30\n",
      "35/35 [==============================] - 11s 316ms/step - loss: 0.1922 - acc: 0.9500 - val_loss: 0.2057 - val_acc: 0.9570\n",
      "Epoch 2/30\n",
      "35/35 [==============================] - 10s 289ms/step - loss: 0.1553 - acc: 0.9607 - val_loss: 0.1304 - val_acc: 0.9570\n",
      "Epoch 3/30\n",
      "35/35 [==============================] - 10s 292ms/step - loss: 0.1281 - acc: 0.9607 - val_loss: 0.1031 - val_acc: 0.9609\n",
      "Epoch 4/30\n",
      "35/35 [==============================] - 10s 298ms/step - loss: 0.1415 - acc: 0.9580 - val_loss: 0.2344 - val_acc: 0.9297\n",
      "Epoch 5/30\n",
      "35/35 [==============================] - 10s 290ms/step - loss: 0.1146 - acc: 0.9625 - val_loss: 0.1050 - val_acc: 0.9648\n",
      "Epoch 6/30\n",
      "35/35 [==============================] - 10s 288ms/step - loss: 0.0965 - acc: 0.9679 - val_loss: 0.0922 - val_acc: 0.9609\n",
      "Epoch 7/30\n",
      "35/35 [==============================] - 10s 289ms/step - loss: 0.1488 - acc: 0.9723 - val_loss: 0.2075 - val_acc: 0.9375\n",
      "Epoch 8/30\n",
      "35/35 [==============================] - 10s 288ms/step - loss: 0.1311 - acc: 0.9643 - val_loss: 0.1193 - val_acc: 0.9453\n",
      "Epoch 9/30\n",
      "35/35 [==============================] - 10s 289ms/step - loss: 0.1112 - acc: 0.9661 - val_loss: 0.1762 - val_acc: 0.9141\n",
      "Epoch 10/30\n",
      "35/35 [==============================] - 10s 288ms/step - loss: 0.0973 - acc: 0.9643 - val_loss: 0.1164 - val_acc: 0.9492\n",
      "Epoch 11/30\n",
      "35/35 [==============================] - 10s 287ms/step - loss: 0.0756 - acc: 0.9768 - val_loss: 0.1118 - val_acc: 0.9766\n",
      "Epoch 12/30\n",
      "35/35 [==============================] - 10s 291ms/step - loss: 0.0744 - acc: 0.9777 - val_loss: 0.0859 - val_acc: 0.9766\n",
      "Epoch 13/30\n",
      "35/35 [==============================] - 10s 288ms/step - loss: 0.0829 - acc: 0.9777 - val_loss: 0.1134 - val_acc: 0.9609\n",
      "Epoch 14/30\n",
      "35/35 [==============================] - 10s 286ms/step - loss: 0.1155 - acc: 0.9696 - val_loss: 0.2122 - val_acc: 0.9375\n",
      "Epoch 15/30\n",
      "35/35 [==============================] - 10s 288ms/step - loss: 0.1189 - acc: 0.9625 - val_loss: 0.1386 - val_acc: 0.9492\n",
      "Epoch 16/30\n",
      "35/35 [==============================] - 10s 289ms/step - loss: 0.1589 - acc: 0.9741 - val_loss: 0.2210 - val_acc: 0.9453\n",
      "Epoch 17/30\n",
      "35/35 [==============================] - 10s 288ms/step - loss: 0.1286 - acc: 0.9634 - val_loss: 0.1065 - val_acc: 0.9609\n",
      "Epoch 18/30\n",
      "35/35 [==============================] - 10s 285ms/step - loss: 0.0877 - acc: 0.9750 - val_loss: 0.1020 - val_acc: 0.9609\n",
      "Epoch 22/30\n",
      "35/35 [==============================] - 10s 289ms/step - loss: 0.0864 - acc: 0.9696 - val_loss: 0.3995 - val_acc: 0.9727\n",
      "Epoch 23/30\n",
      "35/35 [==============================] - 10s 285ms/step - loss: 0.8304 - acc: 0.7321 - val_loss: 0.7403 - val_acc: 0.4883\n",
      "Epoch 24/30\n",
      "35/35 [==============================] - 10s 288ms/step - loss: 0.6835 - acc: 0.4848 - val_loss: 0.6625 - val_acc: 0.5000\n",
      "Epoch 25/30\n",
      "35/35 [==============================] - 10s 288ms/step - loss: 0.6667 - acc: 0.5268 - val_loss: 0.6785 - val_acc: 0.8594\n",
      "Epoch 26/30\n",
      "35/35 [==============================] - 10s 289ms/step - loss: 0.7363 - acc: 0.6946 - val_loss: 0.5201 - val_acc: 0.6328\n",
      "Epoch 27/30\n",
      "35/35 [==============================] - 10s 286ms/step - loss: 0.8559 - acc: 0.8000 - val_loss: 0.3290 - val_acc: 0.8867\n",
      "Epoch 28/30\n",
      "35/35 [==============================] - 10s 287ms/step - loss: 0.7360 - acc: 0.6429 - val_loss: 0.6878 - val_acc: 0.5000\n",
      "Epoch 29/30\n",
      "35/35 [==============================] - 10s 287ms/step - loss: 0.6343 - acc: 0.5920 - val_loss: 0.5928 - val_acc: 0.7695\n",
      "Epoch 30/30\n",
      "35/35 [==============================] - 10s 288ms/step - loss: 0.5065 - acc: 0.7884 - val_loss: 0.5679 - val_acc: 0.6289\n"
     ]
    }
   ],
   "source": [
    "history = model.fit(\n",
    "    ds_train, \n",
    "    epochs=30, \n",
    "    steps_per_epoch=steps_per_epoch, \n",
    "    validation_data=ds_test, \n",
    "    validation_steps=validation_steps\n",
    ")"
   ]
  },
  {
   "cell_type": "code",
   "execution_count": 173,
   "metadata": {
    "colab": {
     "base_uri": "https://localhost:8080/",
     "height": 282
    },
    "colab_type": "code",
    "id": "cEimlEux8hU3",
    "outputId": "5db84dc0-4fb6-451c-f0ab-81bfb2f86f61"
   },
   "outputs": [
    {
     "data": {
      "text/plain": [
       "<matplotlib.legend.Legend at 0x7fa94e55b2b0>"
      ]
     },
     "execution_count": 173,
     "metadata": {
      "tags": []
     },
     "output_type": "execute_result"
    },
    {
     "data": {
      "image/png": "[encoded data removed]",
      "text/plain": [
       "<Figure size 432x288 with 1 Axes>"
      ]
     },
     "metadata": {
      "tags": []
     },
     "output_type": "display_data"
    }
   ],
   "source": [
    "plt.plot(history.epoch, history.history.get(\"loss\"), label=\"loss\")\n",
    "plt.plot(history.epoch, history.history.get(\"val_loss\"), label=\"val_loss\")\n",
    "plt.legend()"
   ]
  },
  {
   "cell_type": "code",
   "execution_count": null,
   "metadata": {
    "colab": {},
    "colab_type": "code",
    "id": "c55mfrZqB8Tu"
   },
   "outputs": [],
   "source": []
  }
 ],
 "metadata": {
  "accelerator": "GPU",
  "colab": {
   "collapsed_sections": [],
   "name": "1-10.ipynb",
   "provenance": [],
   "toc_visible": true
  },
  "kernelspec": {
   "display_name": "Python [conda env:tensorflow]",
   "language": "python",
   "name": "conda-env-tensorflow-py"
  },
  "language_info": {
   "codemirror_mode": {
    "name": "ipython",
    "version": 3
   },
   "file_extension": ".py",
   "mimetype": "text/x-python",
   "name": "python",
   "nbconvert_exporter": "python",
   "pygments_lexer": "ipython3",
   "version": "3.7.6"
  }
 },
 "nbformat": 4,
 "nbformat_minor": 4
}
